{
 "cells": [
  {
   "cell_type": "markdown",
   "id": "36dfda50",
   "metadata": {},
   "source": [
    "## Packages"
   ]
  },
  {
   "cell_type": "code",
   "execution_count": 2,
   "id": "3304ac4d",
   "metadata": {},
   "outputs": [],
   "source": [
    "import pandas as pd\n",
    "import numpy as np\n",
    "import math\n",
    "\n",
    "import seaborn as sns\n",
    "import matplotlib.pyplot as plt\n",
    "\n",
    "import geopandas as gpd\n",
    "from shapely.geometry import Point"
   ]
  },
  {
   "cell_type": "markdown",
   "id": "13380907",
   "metadata": {},
   "source": [
    "## Data"
   ]
  },
  {
   "cell_type": "markdown",
   "id": "c31d2a10",
   "metadata": {},
   "source": [
    "#### EU ETS"
   ]
  },
  {
   "cell_type": "code",
   "execution_count": 3,
   "id": "a2eb6065",
   "metadata": {},
   "outputs": [],
   "source": [
    "euets_path = \"/Users/joshder/Library/CloudStorage/OneDrive-SharedLibraries-UniversityofToronto/Nazanin Khazra - Emissions Trade/Data-Raw/EU-ETS/eutl\"\n",
    "\n",
    "account_holder = pd.read_csv(euets_path + \"/account_holder.csv\")\n",
    "account_type = pd.read_csv(euets_path + \"/account_type.csv\")\n",
    "account = pd.read_csv(euets_path + \"/account.csv\")\n",
    "activity_type = pd.read_csv(euets_path + \"/activity_type.csv\")\n",
    "compliance_code = pd.read_csv(euets_path + \"/compliance_code.csv\")\n",
    "compliance = pd.read_csv(euets_path + \"/compliance.csv\")\n",
    "country_code = pd.read_csv(euets_path + \"/country_code.csv\")\n",
    "foha_matching = pd.read_csv(euets_path + \"/foha_matching.csv\")\n",
    "installation = pd.read_csv(euets_path + \"/installation.csv\")\n",
    "nace_code = pd.read_csv(euets_path + \"/nace_code.csv\")\n",
    "project = pd.read_csv(euets_path + \"/project.csv\")\n",
    "surrender = pd.read_csv(euets_path + \"/surrender.csv\")\n",
    "transaction_type_main = pd.read_csv(euets_path + \"/transaction_type_main.csv\")\n",
    "transaction_type_supplementary = pd.read_csv(euets_path + \"/transaction_type_supplementary.csv\")\n",
    "transaction = pd.read_csv(euets_path + \"/transaction.csv\")\n",
    "unit_type = pd.read_csv(euets_path + \"/unit_type.csv\")"
   ]
  },
  {
   "cell_type": "code",
   "execution_count": 4,
   "id": "8058d547",
   "metadata": {
    "scrolled": true
   },
   "outputs": [],
   "source": [
    "# add account types to account dataframe\n",
    "\n",
    "account = pd.merge(account, account_type, left_on = 'accountType_id', right_on = \"id\", how = \"left\")\n",
    "account.drop(['id_y'], axis = 1, inplace = True)\n",
    "account.rename(columns = {'id_x': 'id', 'description': 'account_type_description'}, inplace = True)"
   ]
  },
  {
   "cell_type": "code",
   "execution_count": 5,
   "id": "0397606b",
   "metadata": {
    "scrolled": true
   },
   "outputs": [],
   "source": [
    "# add registry country names from ids to installation dataframe\n",
    "\n",
    "installation = pd.merge(installation, country_code, left_on = 'registry_id', right_on = 'id', how = 'left')\n",
    "installation.drop(['id_y'], axis = 1, inplace = True)\n",
    "installation.rename(columns = {'id_x': 'id', 'description': 'registry_country'}, inplace = True)"
   ]
  },
  {
   "cell_type": "markdown",
   "id": "44a62ec4",
   "metadata": {},
   "source": [
    "#### EU Countries Shapefiles"
   ]
  },
  {
   "cell_type": "code",
   "execution_count": 6,
   "id": "71129dad",
   "metadata": {},
   "outputs": [],
   "source": [
    "eu_shp_path = \"/Users/joshder/Library/CloudStorage/OneDrive-SharedLibraries-UniversityofToronto/Nazanin Khazra - Emissions Trade/Data-Raw/EU-SHP\"\n",
    "\n",
    "eu_countries = gpd.read_file(eu_shp_path + '/NUTS_RG_01M_2021_4326.shp.zip')"
   ]
  },
  {
   "cell_type": "code",
   "execution_count": 7,
   "id": "91529225",
   "metadata": {},
   "outputs": [],
   "source": [
    "eu_countries_nuts1 = eu_countries[eu_countries['LEVL_CODE'] == 1]"
   ]
  },
  {
   "cell_type": "code",
   "execution_count": 8,
   "id": "3d9ee95e",
   "metadata": {},
   "outputs": [
    {
     "data": {
      "text/html": [
       "<div>\n",
       "<style scoped>\n",
       "    .dataframe tbody tr th:only-of-type {\n",
       "        vertical-align: middle;\n",
       "    }\n",
       "\n",
       "    .dataframe tbody tr th {\n",
       "        vertical-align: top;\n",
       "    }\n",
       "\n",
       "    .dataframe thead th {\n",
       "        text-align: right;\n",
       "    }\n",
       "</style>\n",
       "<table border=\"1\" class=\"dataframe\">\n",
       "  <thead>\n",
       "    <tr style=\"text-align: right;\">\n",
       "      <th></th>\n",
       "      <th>NUTS_ID</th>\n",
       "      <th>LEVL_CODE</th>\n",
       "      <th>CNTR_CODE</th>\n",
       "      <th>NAME_LATN</th>\n",
       "      <th>NUTS_NAME</th>\n",
       "      <th>MOUNT_TYPE</th>\n",
       "      <th>URBN_TYPE</th>\n",
       "      <th>COAST_TYPE</th>\n",
       "      <th>FID</th>\n",
       "      <th>geometry</th>\n",
       "    </tr>\n",
       "  </thead>\n",
       "  <tbody>\n",
       "    <tr>\n",
       "      <th>19</th>\n",
       "      <td>CY0</td>\n",
       "      <td>1</td>\n",
       "      <td>CY</td>\n",
       "      <td>Kýpros</td>\n",
       "      <td>Κύπρος</td>\n",
       "      <td>0.0</td>\n",
       "      <td>0</td>\n",
       "      <td>0</td>\n",
       "      <td>CY0</td>\n",
       "      <td>MULTIPOLYGON (((34.60609 35.70767, 34.60060 35...</td>\n",
       "    </tr>\n",
       "    <tr>\n",
       "      <th>20</th>\n",
       "      <td>DEA</td>\n",
       "      <td>1</td>\n",
       "      <td>DE</td>\n",
       "      <td>Nordrhein-Westfalen</td>\n",
       "      <td>Nordrhein-Westfalen</td>\n",
       "      <td>0.0</td>\n",
       "      <td>0</td>\n",
       "      <td>0</td>\n",
       "      <td>DEA</td>\n",
       "      <td>POLYGON ((8.70301 52.50044, 8.69906 52.48690, ...</td>\n",
       "    </tr>\n",
       "    <tr>\n",
       "      <th>21</th>\n",
       "      <td>CH0</td>\n",
       "      <td>1</td>\n",
       "      <td>CH</td>\n",
       "      <td>Schweiz/Suisse/Svizzera</td>\n",
       "      <td>Schweiz/Suisse/Svizzera</td>\n",
       "      <td>0.0</td>\n",
       "      <td>0</td>\n",
       "      <td>0</td>\n",
       "      <td>CH0</td>\n",
       "      <td>POLYGON ((8.61383 47.80108, 8.62155 47.79372, ...</td>\n",
       "    </tr>\n",
       "    <tr>\n",
       "      <th>22</th>\n",
       "      <td>FRE</td>\n",
       "      <td>1</td>\n",
       "      <td>FR</td>\n",
       "      <td>Hauts-de-France</td>\n",
       "      <td>Hauts-de-France</td>\n",
       "      <td>0.0</td>\n",
       "      <td>0</td>\n",
       "      <td>0</td>\n",
       "      <td>FRE</td>\n",
       "      <td>MULTIPOLYGON (((2.60704 50.91269, 2.60665 50.9...</td>\n",
       "    </tr>\n",
       "    <tr>\n",
       "      <th>23</th>\n",
       "      <td>BG3</td>\n",
       "      <td>1</td>\n",
       "      <td>BG</td>\n",
       "      <td>Severna i Yugoiztochna Bulgaria</td>\n",
       "      <td>Северна и Югоизточна България</td>\n",
       "      <td>0.0</td>\n",
       "      <td>0</td>\n",
       "      <td>0</td>\n",
       "      <td>BG3</td>\n",
       "      <td>POLYGON ((22.67516 44.21566, 22.69084 44.20456...</td>\n",
       "    </tr>\n",
       "    <tr>\n",
       "      <th>...</th>\n",
       "      <td>...</td>\n",
       "      <td>...</td>\n",
       "      <td>...</td>\n",
       "      <td>...</td>\n",
       "      <td>...</td>\n",
       "      <td>...</td>\n",
       "      <td>...</td>\n",
       "      <td>...</td>\n",
       "      <td>...</td>\n",
       "      <td>...</td>\n",
       "    </tr>\n",
       "    <tr>\n",
       "      <th>1596</th>\n",
       "      <td>TR6</td>\n",
       "      <td>1</td>\n",
       "      <td>TR</td>\n",
       "      <td>Akdeniz</td>\n",
       "      <td>Akdeniz</td>\n",
       "      <td>0.0</td>\n",
       "      <td>0</td>\n",
       "      <td>0</td>\n",
       "      <td>TR6</td>\n",
       "      <td>MULTIPOLYGON (((37.63867 37.93117, 37.64377 37...</td>\n",
       "    </tr>\n",
       "    <tr>\n",
       "      <th>1672</th>\n",
       "      <td>TR4</td>\n",
       "      <td>1</td>\n",
       "      <td>TR</td>\n",
       "      <td>Doğu Marmara</td>\n",
       "      <td>Doğu Marmara</td>\n",
       "      <td>0.0</td>\n",
       "      <td>0</td>\n",
       "      <td>0</td>\n",
       "      <td>TR4</td>\n",
       "      <td>MULTIPOLYGON (((30.35469 41.18419, 30.40936 41...</td>\n",
       "    </tr>\n",
       "    <tr>\n",
       "      <th>1680</th>\n",
       "      <td>TRB</td>\n",
       "      <td>1</td>\n",
       "      <td>TR</td>\n",
       "      <td>Ortadoğu Anadolu</td>\n",
       "      <td>Ortadoğu Anadolu</td>\n",
       "      <td>0.0</td>\n",
       "      <td>0</td>\n",
       "      <td>0</td>\n",
       "      <td>TRB</td>\n",
       "      <td>POLYGON ((40.44844 39.52215, 40.45437 39.51844...</td>\n",
       "    </tr>\n",
       "    <tr>\n",
       "      <th>1691</th>\n",
       "      <td>TR7</td>\n",
       "      <td>1</td>\n",
       "      <td>TR</td>\n",
       "      <td>Orta Anadolu</td>\n",
       "      <td>Orta Anadolu</td>\n",
       "      <td>0.0</td>\n",
       "      <td>0</td>\n",
       "      <td>0</td>\n",
       "      <td>TR7</td>\n",
       "      <td>POLYGON ((38.78355 40.08327, 38.78142 40.04527...</td>\n",
       "    </tr>\n",
       "    <tr>\n",
       "      <th>2000</th>\n",
       "      <td>NO0</td>\n",
       "      <td>1</td>\n",
       "      <td>NO</td>\n",
       "      <td>Norge</td>\n",
       "      <td>Norge</td>\n",
       "      <td>0.0</td>\n",
       "      <td>0</td>\n",
       "      <td>0</td>\n",
       "      <td>NO0</td>\n",
       "      <td>MULTIPOLYGON (((33.09131 80.24908, 33.09929 80...</td>\n",
       "    </tr>\n",
       "  </tbody>\n",
       "</table>\n",
       "<p>125 rows × 10 columns</p>\n",
       "</div>"
      ],
      "text/plain": [
       "     NUTS_ID  LEVL_CODE CNTR_CODE                        NAME_LATN  \\\n",
       "19       CY0          1        CY                           Kýpros   \n",
       "20       DEA          1        DE              Nordrhein-Westfalen   \n",
       "21       CH0          1        CH          Schweiz/Suisse/Svizzera   \n",
       "22       FRE          1        FR                  Hauts-de-France   \n",
       "23       BG3          1        BG  Severna i Yugoiztochna Bulgaria   \n",
       "...      ...        ...       ...                              ...   \n",
       "1596     TR6          1        TR                          Akdeniz   \n",
       "1672     TR4          1        TR                     Doğu Marmara   \n",
       "1680     TRB          1        TR                 Ortadoğu Anadolu   \n",
       "1691     TR7          1        TR                     Orta Anadolu   \n",
       "2000     NO0          1        NO                            Norge   \n",
       "\n",
       "                          NUTS_NAME  MOUNT_TYPE  URBN_TYPE  COAST_TYPE  FID  \\\n",
       "19                           Κύπρος         0.0          0           0  CY0   \n",
       "20              Nordrhein-Westfalen         0.0          0           0  DEA   \n",
       "21          Schweiz/Suisse/Svizzera         0.0          0           0  CH0   \n",
       "22                  Hauts-de-France         0.0          0           0  FRE   \n",
       "23    Северна и Югоизточна България         0.0          0           0  BG3   \n",
       "...                             ...         ...        ...         ...  ...   \n",
       "1596                        Akdeniz         0.0          0           0  TR6   \n",
       "1672                   Doğu Marmara         0.0          0           0  TR4   \n",
       "1680               Ortadoğu Anadolu         0.0          0           0  TRB   \n",
       "1691                   Orta Anadolu         0.0          0           0  TR7   \n",
       "2000                          Norge         0.0          0           0  NO0   \n",
       "\n",
       "                                               geometry  \n",
       "19    MULTIPOLYGON (((34.60609 35.70767, 34.60060 35...  \n",
       "20    POLYGON ((8.70301 52.50044, 8.69906 52.48690, ...  \n",
       "21    POLYGON ((8.61383 47.80108, 8.62155 47.79372, ...  \n",
       "22    MULTIPOLYGON (((2.60704 50.91269, 2.60665 50.9...  \n",
       "23    POLYGON ((22.67516 44.21566, 22.69084 44.20456...  \n",
       "...                                                 ...  \n",
       "1596  MULTIPOLYGON (((37.63867 37.93117, 37.64377 37...  \n",
       "1672  MULTIPOLYGON (((30.35469 41.18419, 30.40936 41...  \n",
       "1680  POLYGON ((40.44844 39.52215, 40.45437 39.51844...  \n",
       "1691  POLYGON ((38.78355 40.08327, 38.78142 40.04527...  \n",
       "2000  MULTIPOLYGON (((33.09131 80.24908, 33.09929 80...  \n",
       "\n",
       "[125 rows x 10 columns]"
      ]
     },
     "execution_count": 8,
     "metadata": {},
     "output_type": "execute_result"
    }
   ],
   "source": [
    "eu_countries_nuts1"
   ]
  },
  {
   "cell_type": "code",
   "execution_count": 9,
   "id": "1dd77b40",
   "metadata": {},
   "outputs": [
    {
     "data": {
      "image/png": "[encoded data removed]",
      "text/plain": [
       "<Figure size 1152x1152 with 1 Axes>"
      ]
     },
     "metadata": {
      "needs_background": "light"
     },
     "output_type": "display_data"
    }
   ],
   "source": [
    "fig, gax = plt.subplots(figsize=(16, 16))\n",
    "\n",
    "eu_countries_nuts1.plot(ax=gax, edgecolor=\"black\", color=\"white\")\n",
    "\n",
    "plt.axis('off')\n",
    "\n",
    "plt.show()"
   ]
  },
  {
   "cell_type": "markdown",
   "id": "a7c67211",
   "metadata": {},
   "source": [
    "## Summary Statistics and Visualisations"
   ]
  },
  {
   "cell_type": "markdown",
   "id": "d21332a0",
   "metadata": {},
   "source": [
    "### Number of Installations Owned by Companies"
   ]
  },
  {
   "cell_type": "code",
   "execution_count": 107,
   "id": "573e6d79",
   "metadata": {},
   "outputs": [],
   "source": [
    "# count number of installations for each account by Company Registration Number\n",
    "\n",
    "num_installations = account[['accountHolder_id', 'installation_id']].dropna()\n",
    "num_installations_by_account = num_installations.groupby('accountHolder_id').count()\n",
    "num_installations_by_account.rename(columns = {'installation_id': \"Number of Installations Owned\"}, inplace = True)"
   ]
  },
  {
   "cell_type": "code",
   "execution_count": 90,
   "id": "5815d654",
   "metadata": {
    "scrolled": true
   },
   "outputs": [
    {
     "data": {
      "text/plain": [
       "<AxesSubplot:xlabel='Number of Installations Owned', ylabel='Density'>"
      ]
     },
     "execution_count": 90,
     "metadata": {},
     "output_type": "execute_result"
    },
    {
     "data": {
      "image/png": "[encoded data removed]",
      "text/plain": [
       "<Figure size 432x288 with 1 Axes>"
      ]
     },
     "metadata": {
      "needs_background": "light"
     },
     "output_type": "display_data"
    }
   ],
   "source": [
    "sns.histplot(data = num_installations_by_account, x=\"Number of Installations Owned\", stat=\"density\", bins = 30, color = 'navy')"
   ]
  },
  {
   "cell_type": "code",
   "execution_count": 91,
   "id": "7b8992b5",
   "metadata": {
    "scrolled": true
   },
   "outputs": [
    {
     "data": {
      "text/html": [
       "<div>\n",
       "<style scoped>\n",
       "    .dataframe tbody tr th:only-of-type {\n",
       "        vertical-align: middle;\n",
       "    }\n",
       "\n",
       "    .dataframe tbody tr th {\n",
       "        vertical-align: top;\n",
       "    }\n",
       "\n",
       "    .dataframe thead th {\n",
       "        text-align: right;\n",
       "    }\n",
       "</style>\n",
       "<table border=\"1\" class=\"dataframe\">\n",
       "  <thead>\n",
       "    <tr style=\"text-align: right;\">\n",
       "      <th></th>\n",
       "      <th>Number of Installations Owned</th>\n",
       "    </tr>\n",
       "  </thead>\n",
       "  <tbody>\n",
       "    <tr>\n",
       "      <th>count</th>\n",
       "      <td>11647.00</td>\n",
       "    </tr>\n",
       "    <tr>\n",
       "      <th>mean</th>\n",
       "      <td>2.51</td>\n",
       "    </tr>\n",
       "    <tr>\n",
       "      <th>std</th>\n",
       "      <td>4.10</td>\n",
       "    </tr>\n",
       "    <tr>\n",
       "      <th>min</th>\n",
       "      <td>1.00</td>\n",
       "    </tr>\n",
       "    <tr>\n",
       "      <th>25%</th>\n",
       "      <td>1.00</td>\n",
       "    </tr>\n",
       "    <tr>\n",
       "      <th>50%</th>\n",
       "      <td>2.00</td>\n",
       "    </tr>\n",
       "    <tr>\n",
       "      <th>75%</th>\n",
       "      <td>2.00</td>\n",
       "    </tr>\n",
       "    <tr>\n",
       "      <th>max</th>\n",
       "      <td>159.00</td>\n",
       "    </tr>\n",
       "  </tbody>\n",
       "</table>\n",
       "</div>"
      ],
      "text/plain": [
       "       Number of Installations Owned\n",
       "count                       11647.00\n",
       "mean                            2.51\n",
       "std                             4.10\n",
       "min                             1.00\n",
       "25%                             1.00\n",
       "50%                             2.00\n",
       "75%                             2.00\n",
       "max                           159.00"
      ]
     },
     "execution_count": 91,
     "metadata": {},
     "output_type": "execute_result"
    }
   ],
   "source": [
    "num_installations_by_account.describe()"
   ]
  },
  {
   "cell_type": "markdown",
   "id": "eab5ea47",
   "metadata": {},
   "source": [
    "### Number of Installations Per NACE sector"
   ]
  },
  {
   "cell_type": "code",
   "execution_count": 13,
   "id": "18bba5ed",
   "metadata": {},
   "outputs": [],
   "source": [
    "# count the number of installations in each NACE parent sector\n",
    "\n",
    "num_installations_by_nace = installation[['id', 'nace_id']].dropna()\n",
    "num_installations_by_nace['nace_parent'] = num_installations_by_nace['nace_id'].apply(lambda x: math.trunc(x))"
   ]
  },
  {
   "cell_type": "code",
   "execution_count": 14,
   "id": "d3ef91e6",
   "metadata": {},
   "outputs": [],
   "source": [
    "num_installations_by_nace.drop(['nace_id'], axis = 1, inplace = True)\n",
    "num_installations_by_nace = num_installations_by_nace.groupby('nace_parent').count()\n",
    "num_installations_by_nace.reset_index(inplace = True)\n",
    "num_installations_by_nace['nace_parent'] = pd.to_numeric(num_installations_by_nace['nace_parent'])\n",
    "num_installations_by_nace['nace_parent'] = num_installations_by_nace['nace_parent'].apply(lambda x: float(x))\n",
    "num_installations_by_nace.rename(columns = {'id': 'num_installations'}, inplace = True)"
   ]
  },
  {
   "cell_type": "code",
   "execution_count": 15,
   "id": "4677a00a",
   "metadata": {
    "scrolled": true
   },
   "outputs": [
    {
     "data": {
      "text/html": [
       "<div>\n",
       "<style scoped>\n",
       "    .dataframe tbody tr th:only-of-type {\n",
       "        vertical-align: middle;\n",
       "    }\n",
       "\n",
       "    .dataframe tbody tr th {\n",
       "        vertical-align: top;\n",
       "    }\n",
       "\n",
       "    .dataframe thead th {\n",
       "        text-align: right;\n",
       "    }\n",
       "</style>\n",
       "<table border=\"1\" class=\"dataframe\">\n",
       "  <thead>\n",
       "    <tr style=\"text-align: right;\">\n",
       "      <th></th>\n",
       "      <th>nace_parent</th>\n",
       "      <th>num_installations</th>\n",
       "    </tr>\n",
       "  </thead>\n",
       "  <tbody>\n",
       "    <tr>\n",
       "      <th>0</th>\n",
       "      <td>1.0</td>\n",
       "      <td>139</td>\n",
       "    </tr>\n",
       "    <tr>\n",
       "      <th>1</th>\n",
       "      <td>5.0</td>\n",
       "      <td>3</td>\n",
       "    </tr>\n",
       "    <tr>\n",
       "      <th>2</th>\n",
       "      <td>6.0</td>\n",
       "      <td>298</td>\n",
       "    </tr>\n",
       "    <tr>\n",
       "      <th>3</th>\n",
       "      <td>7.0</td>\n",
       "      <td>12</td>\n",
       "    </tr>\n",
       "    <tr>\n",
       "      <th>4</th>\n",
       "      <td>8.0</td>\n",
       "      <td>54</td>\n",
       "    </tr>\n",
       "    <tr>\n",
       "      <th>5</th>\n",
       "      <td>9.0</td>\n",
       "      <td>9</td>\n",
       "    </tr>\n",
       "    <tr>\n",
       "      <th>6</th>\n",
       "      <td>10.0</td>\n",
       "      <td>1021</td>\n",
       "    </tr>\n",
       "    <tr>\n",
       "      <th>7</th>\n",
       "      <td>11.0</td>\n",
       "      <td>175</td>\n",
       "    </tr>\n",
       "    <tr>\n",
       "      <th>8</th>\n",
       "      <td>12.0</td>\n",
       "      <td>9</td>\n",
       "    </tr>\n",
       "    <tr>\n",
       "      <th>9</th>\n",
       "      <td>13.0</td>\n",
       "      <td>138</td>\n",
       "    </tr>\n",
       "    <tr>\n",
       "      <th>10</th>\n",
       "      <td>14.0</td>\n",
       "      <td>10</td>\n",
       "    </tr>\n",
       "    <tr>\n",
       "      <th>11</th>\n",
       "      <td>15.0</td>\n",
       "      <td>3</td>\n",
       "    </tr>\n",
       "    <tr>\n",
       "      <th>12</th>\n",
       "      <td>16.0</td>\n",
       "      <td>184</td>\n",
       "    </tr>\n",
       "    <tr>\n",
       "      <th>13</th>\n",
       "      <td>17.0</td>\n",
       "      <td>985</td>\n",
       "    </tr>\n",
       "    <tr>\n",
       "      <th>14</th>\n",
       "      <td>18.0</td>\n",
       "      <td>8</td>\n",
       "    </tr>\n",
       "    <tr>\n",
       "      <th>15</th>\n",
       "      <td>19.0</td>\n",
       "      <td>202</td>\n",
       "    </tr>\n",
       "    <tr>\n",
       "      <th>16</th>\n",
       "      <td>20.0</td>\n",
       "      <td>983</td>\n",
       "    </tr>\n",
       "    <tr>\n",
       "      <th>17</th>\n",
       "      <td>21.0</td>\n",
       "      <td>111</td>\n",
       "    </tr>\n",
       "    <tr>\n",
       "      <th>18</th>\n",
       "      <td>22.0</td>\n",
       "      <td>95</td>\n",
       "    </tr>\n",
       "    <tr>\n",
       "      <th>19</th>\n",
       "      <td>23.0</td>\n",
       "      <td>2966</td>\n",
       "    </tr>\n",
       "    <tr>\n",
       "      <th>20</th>\n",
       "      <td>24.0</td>\n",
       "      <td>721</td>\n",
       "    </tr>\n",
       "    <tr>\n",
       "      <th>21</th>\n",
       "      <td>25.0</td>\n",
       "      <td>80</td>\n",
       "    </tr>\n",
       "    <tr>\n",
       "      <th>22</th>\n",
       "      <td>26.0</td>\n",
       "      <td>23</td>\n",
       "    </tr>\n",
       "    <tr>\n",
       "      <th>23</th>\n",
       "      <td>27.0</td>\n",
       "      <td>30</td>\n",
       "    </tr>\n",
       "    <tr>\n",
       "      <th>24</th>\n",
       "      <td>28.0</td>\n",
       "      <td>64</td>\n",
       "    </tr>\n",
       "    <tr>\n",
       "      <th>25</th>\n",
       "      <td>29.0</td>\n",
       "      <td>123</td>\n",
       "    </tr>\n",
       "    <tr>\n",
       "      <th>26</th>\n",
       "      <td>30.0</td>\n",
       "      <td>83</td>\n",
       "    </tr>\n",
       "    <tr>\n",
       "      <th>27</th>\n",
       "      <td>31.0</td>\n",
       "      <td>9</td>\n",
       "    </tr>\n",
       "    <tr>\n",
       "      <th>28</th>\n",
       "      <td>32.0</td>\n",
       "      <td>5</td>\n",
       "    </tr>\n",
       "    <tr>\n",
       "      <th>29</th>\n",
       "      <td>33.0</td>\n",
       "      <td>16</td>\n",
       "    </tr>\n",
       "    <tr>\n",
       "      <th>30</th>\n",
       "      <td>35.0</td>\n",
       "      <td>5708</td>\n",
       "    </tr>\n",
       "    <tr>\n",
       "      <th>31</th>\n",
       "      <td>36.0</td>\n",
       "      <td>2</td>\n",
       "    </tr>\n",
       "    <tr>\n",
       "      <th>32</th>\n",
       "      <td>37.0</td>\n",
       "      <td>26</td>\n",
       "    </tr>\n",
       "    <tr>\n",
       "      <th>33</th>\n",
       "      <td>38.0</td>\n",
       "      <td>44</td>\n",
       "    </tr>\n",
       "    <tr>\n",
       "      <th>34</th>\n",
       "      <td>41.0</td>\n",
       "      <td>2</td>\n",
       "    </tr>\n",
       "    <tr>\n",
       "      <th>35</th>\n",
       "      <td>42.0</td>\n",
       "      <td>23</td>\n",
       "    </tr>\n",
       "    <tr>\n",
       "      <th>36</th>\n",
       "      <td>43.0</td>\n",
       "      <td>2</td>\n",
       "    </tr>\n",
       "    <tr>\n",
       "      <th>37</th>\n",
       "      <td>46.0</td>\n",
       "      <td>52</td>\n",
       "    </tr>\n",
       "    <tr>\n",
       "      <th>38</th>\n",
       "      <td>47.0</td>\n",
       "      <td>1</td>\n",
       "    </tr>\n",
       "    <tr>\n",
       "      <th>39</th>\n",
       "      <td>49.0</td>\n",
       "      <td>99</td>\n",
       "    </tr>\n",
       "    <tr>\n",
       "      <th>40</th>\n",
       "      <td>51.0</td>\n",
       "      <td>1619</td>\n",
       "    </tr>\n",
       "    <tr>\n",
       "      <th>41</th>\n",
       "      <td>52.0</td>\n",
       "      <td>55</td>\n",
       "    </tr>\n",
       "    <tr>\n",
       "      <th>42</th>\n",
       "      <td>53.0</td>\n",
       "      <td>1</td>\n",
       "    </tr>\n",
       "    <tr>\n",
       "      <th>43</th>\n",
       "      <td>56.0</td>\n",
       "      <td>1</td>\n",
       "    </tr>\n",
       "    <tr>\n",
       "      <th>44</th>\n",
       "      <td>58.0</td>\n",
       "      <td>4</td>\n",
       "    </tr>\n",
       "    <tr>\n",
       "      <th>45</th>\n",
       "      <td>60.0</td>\n",
       "      <td>1</td>\n",
       "    </tr>\n",
       "    <tr>\n",
       "      <th>46</th>\n",
       "      <td>61.0</td>\n",
       "      <td>5</td>\n",
       "    </tr>\n",
       "    <tr>\n",
       "      <th>47</th>\n",
       "      <td>63.0</td>\n",
       "      <td>150</td>\n",
       "    </tr>\n",
       "    <tr>\n",
       "      <th>48</th>\n",
       "      <td>64.0</td>\n",
       "      <td>12</td>\n",
       "    </tr>\n",
       "    <tr>\n",
       "      <th>49</th>\n",
       "      <td>68.0</td>\n",
       "      <td>12</td>\n",
       "    </tr>\n",
       "    <tr>\n",
       "      <th>50</th>\n",
       "      <td>70.0</td>\n",
       "      <td>1</td>\n",
       "    </tr>\n",
       "    <tr>\n",
       "      <th>51</th>\n",
       "      <td>71.0</td>\n",
       "      <td>4</td>\n",
       "    </tr>\n",
       "    <tr>\n",
       "      <th>52</th>\n",
       "      <td>72.0</td>\n",
       "      <td>15</td>\n",
       "    </tr>\n",
       "    <tr>\n",
       "      <th>53</th>\n",
       "      <td>75.0</td>\n",
       "      <td>1</td>\n",
       "    </tr>\n",
       "    <tr>\n",
       "      <th>54</th>\n",
       "      <td>82.0</td>\n",
       "      <td>7</td>\n",
       "    </tr>\n",
       "    <tr>\n",
       "      <th>55</th>\n",
       "      <td>84.0</td>\n",
       "      <td>32</td>\n",
       "    </tr>\n",
       "    <tr>\n",
       "      <th>56</th>\n",
       "      <td>85.0</td>\n",
       "      <td>48</td>\n",
       "    </tr>\n",
       "    <tr>\n",
       "      <th>57</th>\n",
       "      <td>86.0</td>\n",
       "      <td>192</td>\n",
       "    </tr>\n",
       "  </tbody>\n",
       "</table>\n",
       "</div>"
      ],
      "text/plain": [
       "    nace_parent  num_installations\n",
       "0           1.0                139\n",
       "1           5.0                  3\n",
       "2           6.0                298\n",
       "3           7.0                 12\n",
       "4           8.0                 54\n",
       "5           9.0                  9\n",
       "6          10.0               1021\n",
       "7          11.0                175\n",
       "8          12.0                  9\n",
       "9          13.0                138\n",
       "10         14.0                 10\n",
       "11         15.0                  3\n",
       "12         16.0                184\n",
       "13         17.0                985\n",
       "14         18.0                  8\n",
       "15         19.0                202\n",
       "16         20.0                983\n",
       "17         21.0                111\n",
       "18         22.0                 95\n",
       "19         23.0               2966\n",
       "20         24.0                721\n",
       "21         25.0                 80\n",
       "22         26.0                 23\n",
       "23         27.0                 30\n",
       "24         28.0                 64\n",
       "25         29.0                123\n",
       "26         30.0                 83\n",
       "27         31.0                  9\n",
       "28         32.0                  5\n",
       "29         33.0                 16\n",
       "30         35.0               5708\n",
       "31         36.0                  2\n",
       "32         37.0                 26\n",
       "33         38.0                 44\n",
       "34         41.0                  2\n",
       "35         42.0                 23\n",
       "36         43.0                  2\n",
       "37         46.0                 52\n",
       "38         47.0                  1\n",
       "39         49.0                 99\n",
       "40         51.0               1619\n",
       "41         52.0                 55\n",
       "42         53.0                  1\n",
       "43         56.0                  1\n",
       "44         58.0                  4\n",
       "45         60.0                  1\n",
       "46         61.0                  5\n",
       "47         63.0                150\n",
       "48         64.0                 12\n",
       "49         68.0                 12\n",
       "50         70.0                  1\n",
       "51         71.0                  4\n",
       "52         72.0                 15\n",
       "53         75.0                  1\n",
       "54         82.0                  7\n",
       "55         84.0                 32\n",
       "56         85.0                 48\n",
       "57         86.0                192"
      ]
     },
     "execution_count": 15,
     "metadata": {},
     "output_type": "execute_result"
    }
   ],
   "source": [
    "num_installations_by_nace"
   ]
  },
  {
   "cell_type": "code",
   "execution_count": 16,
   "id": "97724db8",
   "metadata": {
    "scrolled": true
   },
   "outputs": [
    {
     "data": {
      "text/html": [
       "<div>\n",
       "<style scoped>\n",
       "    .dataframe tbody tr th:only-of-type {\n",
       "        vertical-align: middle;\n",
       "    }\n",
       "\n",
       "    .dataframe tbody tr th {\n",
       "        vertical-align: top;\n",
       "    }\n",
       "\n",
       "    .dataframe thead th {\n",
       "        text-align: right;\n",
       "    }\n",
       "</style>\n",
       "<table border=\"1\" class=\"dataframe\">\n",
       "  <thead>\n",
       "    <tr style=\"text-align: right;\">\n",
       "      <th></th>\n",
       "      <th>nace_parent</th>\n",
       "      <th>num_installations</th>\n",
       "    </tr>\n",
       "  </thead>\n",
       "  <tbody>\n",
       "    <tr>\n",
       "      <th>count</th>\n",
       "      <td>58.000000</td>\n",
       "      <td>58.000000</td>\n",
       "    </tr>\n",
       "    <tr>\n",
       "      <th>mean</th>\n",
       "      <td>37.534483</td>\n",
       "      <td>287.551724</td>\n",
       "    </tr>\n",
       "    <tr>\n",
       "      <th>std</th>\n",
       "      <td>23.662996</td>\n",
       "      <td>869.322163</td>\n",
       "    </tr>\n",
       "    <tr>\n",
       "      <th>min</th>\n",
       "      <td>1.000000</td>\n",
       "      <td>1.000000</td>\n",
       "    </tr>\n",
       "    <tr>\n",
       "      <th>25%</th>\n",
       "      <td>18.250000</td>\n",
       "      <td>5.500000</td>\n",
       "    </tr>\n",
       "    <tr>\n",
       "      <th>50%</th>\n",
       "      <td>32.500000</td>\n",
       "      <td>28.000000</td>\n",
       "    </tr>\n",
       "    <tr>\n",
       "      <th>75%</th>\n",
       "      <td>55.250000</td>\n",
       "      <td>134.250000</td>\n",
       "    </tr>\n",
       "    <tr>\n",
       "      <th>max</th>\n",
       "      <td>86.000000</td>\n",
       "      <td>5708.000000</td>\n",
       "    </tr>\n",
       "  </tbody>\n",
       "</table>\n",
       "</div>"
      ],
      "text/plain": [
       "       nace_parent  num_installations\n",
       "count    58.000000          58.000000\n",
       "mean     37.534483         287.551724\n",
       "std      23.662996         869.322163\n",
       "min       1.000000           1.000000\n",
       "25%      18.250000           5.500000\n",
       "50%      32.500000          28.000000\n",
       "75%      55.250000         134.250000\n",
       "max      86.000000        5708.000000"
      ]
     },
     "execution_count": 16,
     "metadata": {},
     "output_type": "execute_result"
    }
   ],
   "source": [
    "num_installations_by_nace.describe()"
   ]
  },
  {
   "cell_type": "markdown",
   "id": "8092623c",
   "metadata": {},
   "source": [
    "NACE level 2 sector codes indicate the nature of an installations activities. In the EU ETS most installations are in the manufacturing sector, followed by energy. Note, NACE code data is not complete for all installations."
   ]
  },
  {
   "cell_type": "markdown",
   "id": "a29d3589",
   "metadata": {},
   "source": [
    "### Number of Installations Per Country"
   ]
  },
  {
   "cell_type": "code",
   "execution_count": 17,
   "id": "97cf9936",
   "metadata": {},
   "outputs": [
    {
     "name": "stderr",
     "output_type": "stream",
     "text": [
      "/Users/joshder/opt/anaconda3/lib/python3.9/site-packages/pandas/core/frame.py:5039: SettingWithCopyWarning: \n",
      "A value is trying to be set on a copy of a slice from a DataFrame\n",
      "\n",
      "See the caveats in the documentation: https://pandas.pydata.org/pandas-docs/stable/user_guide/indexing.html#returning-a-view-versus-a-copy\n",
      "  return super().rename(\n"
     ]
    }
   ],
   "source": [
    "# count number of installations registered in each country\n",
    "\n",
    "num_installations_by_country = installation[['registry_country', 'id']]\n",
    "num_installations_by_country.rename(columns = {'registry_country': \"Country\"}, inplace = True)\n",
    "num_installations_by_country = num_installations_by_country.groupby('Country').count()\n",
    "num_installations_by_country.rename(columns = {'id': \"Number of Installations\"}, inplace = True)"
   ]
  },
  {
   "cell_type": "code",
   "execution_count": 18,
   "id": "1f1cd142",
   "metadata": {},
   "outputs": [
    {
     "data": {
      "text/plain": [
       "<AxesSubplot:xlabel='Number of Installations', ylabel='Count'>"
      ]
     },
     "execution_count": 18,
     "metadata": {},
     "output_type": "execute_result"
    },
    {
     "data": {
      "image/png": "[encoded data removed]",
      "text/plain": [
       "<Figure size 432x288 with 1 Axes>"
      ]
     },
     "metadata": {
      "needs_background": "light"
     },
     "output_type": "display_data"
    }
   ],
   "source": [
    "sns.histplot(num_installations_by_country, x = 'Number of Installations', bins = 25)"
   ]
  },
  {
   "cell_type": "code",
   "execution_count": 19,
   "id": "a709987c",
   "metadata": {},
   "outputs": [
    {
     "data": {
      "text/html": [
       "<div>\n",
       "<style scoped>\n",
       "    .dataframe tbody tr th:only-of-type {\n",
       "        vertical-align: middle;\n",
       "    }\n",
       "\n",
       "    .dataframe tbody tr th {\n",
       "        vertical-align: top;\n",
       "    }\n",
       "\n",
       "    .dataframe thead th {\n",
       "        text-align: right;\n",
       "    }\n",
       "</style>\n",
       "<table border=\"1\" class=\"dataframe\">\n",
       "  <thead>\n",
       "    <tr style=\"text-align: right;\">\n",
       "      <th></th>\n",
       "      <th>Number of Installations</th>\n",
       "    </tr>\n",
       "  </thead>\n",
       "  <tbody>\n",
       "    <tr>\n",
       "      <th>count</th>\n",
       "      <td>32.000000</td>\n",
       "    </tr>\n",
       "    <tr>\n",
       "      <th>mean</th>\n",
       "      <td>556.906250</td>\n",
       "    </tr>\n",
       "    <tr>\n",
       "      <th>std</th>\n",
       "      <td>697.597322</td>\n",
       "    </tr>\n",
       "    <tr>\n",
       "      <th>min</th>\n",
       "      <td>2.000000</td>\n",
       "    </tr>\n",
       "    <tr>\n",
       "      <th>25%</th>\n",
       "      <td>96.000000</td>\n",
       "    </tr>\n",
       "    <tr>\n",
       "      <th>50%</th>\n",
       "      <td>272.500000</td>\n",
       "    </tr>\n",
       "    <tr>\n",
       "      <th>75%</th>\n",
       "      <td>706.750000</td>\n",
       "    </tr>\n",
       "    <tr>\n",
       "      <th>max</th>\n",
       "      <td>2832.000000</td>\n",
       "    </tr>\n",
       "  </tbody>\n",
       "</table>\n",
       "</div>"
      ],
      "text/plain": [
       "       Number of Installations\n",
       "count                32.000000\n",
       "mean                556.906250\n",
       "std                 697.597322\n",
       "min                   2.000000\n",
       "25%                  96.000000\n",
       "50%                 272.500000\n",
       "75%                 706.750000\n",
       "max                2832.000000"
      ]
     },
     "execution_count": 19,
     "metadata": {},
     "output_type": "execute_result"
    }
   ],
   "source": [
    "num_installations_by_country.describe()"
   ]
  },
  {
   "cell_type": "code",
   "execution_count": 20,
   "id": "bf3bee58",
   "metadata": {
    "scrolled": true
   },
   "outputs": [
    {
     "data": {
      "text/html": [
       "<div>\n",
       "<style scoped>\n",
       "    .dataframe tbody tr th:only-of-type {\n",
       "        vertical-align: middle;\n",
       "    }\n",
       "\n",
       "    .dataframe tbody tr th {\n",
       "        vertical-align: top;\n",
       "    }\n",
       "\n",
       "    .dataframe thead th {\n",
       "        text-align: right;\n",
       "    }\n",
       "</style>\n",
       "<table border=\"1\" class=\"dataframe\">\n",
       "  <thead>\n",
       "    <tr style=\"text-align: right;\">\n",
       "      <th></th>\n",
       "      <th>Number of Installations</th>\n",
       "    </tr>\n",
       "    <tr>\n",
       "      <th>Country</th>\n",
       "      <th></th>\n",
       "    </tr>\n",
       "  </thead>\n",
       "  <tbody>\n",
       "    <tr>\n",
       "      <th>Austria</th>\n",
       "      <td>297</td>\n",
       "    </tr>\n",
       "    <tr>\n",
       "      <th>Belgium</th>\n",
       "      <td>524</td>\n",
       "    </tr>\n",
       "    <tr>\n",
       "      <th>Bulgaria</th>\n",
       "      <td>177</td>\n",
       "    </tr>\n",
       "    <tr>\n",
       "      <th>Croatia</th>\n",
       "      <td>66</td>\n",
       "    </tr>\n",
       "    <tr>\n",
       "      <th>Cyprus</th>\n",
       "      <td>29</td>\n",
       "    </tr>\n",
       "    <tr>\n",
       "      <th>Czech Republic</th>\n",
       "      <td>472</td>\n",
       "    </tr>\n",
       "    <tr>\n",
       "      <th>Denmark</th>\n",
       "      <td>470</td>\n",
       "    </tr>\n",
       "    <tr>\n",
       "      <th>Estonia</th>\n",
       "      <td>66</td>\n",
       "    </tr>\n",
       "    <tr>\n",
       "      <th>Finland</th>\n",
       "      <td>754</td>\n",
       "    </tr>\n",
       "    <tr>\n",
       "      <th>France</th>\n",
       "      <td>1847</td>\n",
       "    </tr>\n",
       "    <tr>\n",
       "      <th>Germany</th>\n",
       "      <td>2832</td>\n",
       "    </tr>\n",
       "    <tr>\n",
       "      <th>Greece</th>\n",
       "      <td>224</td>\n",
       "    </tr>\n",
       "    <tr>\n",
       "      <th>Hungary</th>\n",
       "      <td>313</td>\n",
       "    </tr>\n",
       "    <tr>\n",
       "      <th>Iceland</th>\n",
       "      <td>45</td>\n",
       "    </tr>\n",
       "    <tr>\n",
       "      <th>Ireland</th>\n",
       "      <td>248</td>\n",
       "    </tr>\n",
       "    <tr>\n",
       "      <th>Italy</th>\n",
       "      <td>1663</td>\n",
       "    </tr>\n",
       "    <tr>\n",
       "      <th>Latvia</th>\n",
       "      <td>120</td>\n",
       "    </tr>\n",
       "    <tr>\n",
       "      <th>Liechtenstein</th>\n",
       "      <td>2</td>\n",
       "    </tr>\n",
       "    <tr>\n",
       "      <th>Lithuania</th>\n",
       "      <td>130</td>\n",
       "    </tr>\n",
       "    <tr>\n",
       "      <th>Luxembourg</th>\n",
       "      <td>34</td>\n",
       "    </tr>\n",
       "    <tr>\n",
       "      <th>Malta</th>\n",
       "      <td>21</td>\n",
       "    </tr>\n",
       "    <tr>\n",
       "      <th>Netherlands</th>\n",
       "      <td>691</td>\n",
       "    </tr>\n",
       "    <tr>\n",
       "      <th>Northern Ireland</th>\n",
       "      <td>6</td>\n",
       "    </tr>\n",
       "    <tr>\n",
       "      <th>Norway</th>\n",
       "      <td>201</td>\n",
       "    </tr>\n",
       "    <tr>\n",
       "      <th>Poland</th>\n",
       "      <td>1095</td>\n",
       "    </tr>\n",
       "    <tr>\n",
       "      <th>Portugal</th>\n",
       "      <td>373</td>\n",
       "    </tr>\n",
       "    <tr>\n",
       "      <th>Romania</th>\n",
       "      <td>311</td>\n",
       "    </tr>\n",
       "    <tr>\n",
       "      <th>Slovakia</th>\n",
       "      <td>226</td>\n",
       "    </tr>\n",
       "    <tr>\n",
       "      <th>Slovenia</th>\n",
       "      <td>106</td>\n",
       "    </tr>\n",
       "    <tr>\n",
       "      <th>Spain</th>\n",
       "      <td>1546</td>\n",
       "    </tr>\n",
       "    <tr>\n",
       "      <th>Sweden</th>\n",
       "      <td>992</td>\n",
       "    </tr>\n",
       "    <tr>\n",
       "      <th>United Kingdom</th>\n",
       "      <td>1940</td>\n",
       "    </tr>\n",
       "  </tbody>\n",
       "</table>\n",
       "</div>"
      ],
      "text/plain": [
       "                  Number of Installations\n",
       "Country                                  \n",
       "Austria                               297\n",
       "Belgium                               524\n",
       "Bulgaria                              177\n",
       "Croatia                                66\n",
       "Cyprus                                 29\n",
       "Czech Republic                        472\n",
       "Denmark                               470\n",
       "Estonia                                66\n",
       "Finland                               754\n",
       "France                               1847\n",
       "Germany                              2832\n",
       "Greece                                224\n",
       "Hungary                               313\n",
       "Iceland                                45\n",
       "Ireland                               248\n",
       "Italy                                1663\n",
       "Latvia                                120\n",
       "Liechtenstein                           2\n",
       "Lithuania                             130\n",
       "Luxembourg                             34\n",
       "Malta                                  21\n",
       "Netherlands                           691\n",
       "Northern Ireland                        6\n",
       "Norway                                201\n",
       "Poland                               1095\n",
       "Portugal                              373\n",
       "Romania                               311\n",
       "Slovakia                              226\n",
       "Slovenia                              106\n",
       "Spain                                1546\n",
       "Sweden                                992\n",
       "United Kingdom                       1940"
      ]
     },
     "execution_count": 20,
     "metadata": {},
     "output_type": "execute_result"
    }
   ],
   "source": [
    "num_installations_by_country"
   ]
  },
  {
   "cell_type": "markdown",
   "id": "56fb8792",
   "metadata": {},
   "source": [
    "On average, each country has approximately 560 installations. Germany has the most installations with 2832 and Liechtenstein has the least with 2. There is a large amount of variation amount country installations (standard deviation of nearly 700). "
   ]
  },
  {
   "cell_type": "markdown",
   "id": "e6baa459",
   "metadata": {},
   "source": [
    "### Surrenders Over Time"
   ]
  },
  {
   "cell_type": "code",
   "execution_count": 21,
   "id": "0bd8159e",
   "metadata": {},
   "outputs": [],
   "source": [
    "surrender_by_year = surrender[['reportedInSystem', 'year', 'amount']]"
   ]
  },
  {
   "cell_type": "code",
   "execution_count": 22,
   "id": "e39be05e",
   "metadata": {},
   "outputs": [],
   "source": [
    "surrender_by_year = surrender_by_year.groupby('year').sum()"
   ]
  },
  {
   "cell_type": "code",
   "execution_count": 23,
   "id": "5a92b294",
   "metadata": {},
   "outputs": [],
   "source": [
    "surrender_by_year.reset_index(inplace = True)"
   ]
  },
  {
   "cell_type": "code",
   "execution_count": 24,
   "id": "8ff6205a",
   "metadata": {},
   "outputs": [],
   "source": [
    "surrender_by_year.rename(columns = {'year': 'Year', 'amount': 'Amount Surrendered'}, inplace = True)"
   ]
  },
  {
   "cell_type": "code",
   "execution_count": 25,
   "id": "6fb6337e",
   "metadata": {},
   "outputs": [
    {
     "data": {
      "text/html": [
       "<div>\n",
       "<style scoped>\n",
       "    .dataframe tbody tr th:only-of-type {\n",
       "        vertical-align: middle;\n",
       "    }\n",
       "\n",
       "    .dataframe tbody tr th {\n",
       "        vertical-align: top;\n",
       "    }\n",
       "\n",
       "    .dataframe thead th {\n",
       "        text-align: right;\n",
       "    }\n",
       "</style>\n",
       "<table border=\"1\" class=\"dataframe\">\n",
       "  <thead>\n",
       "    <tr style=\"text-align: right;\">\n",
       "      <th></th>\n",
       "      <th>Year</th>\n",
       "      <th>Amount Surrendered</th>\n",
       "    </tr>\n",
       "  </thead>\n",
       "  <tbody>\n",
       "    <tr>\n",
       "      <th>0</th>\n",
       "      <td>2005</td>\n",
       "      <td>1639886407</td>\n",
       "    </tr>\n",
       "    <tr>\n",
       "      <th>1</th>\n",
       "      <td>2006</td>\n",
       "      <td>2345026299</td>\n",
       "    </tr>\n",
       "    <tr>\n",
       "      <th>2</th>\n",
       "      <td>2007</td>\n",
       "      <td>2031219256</td>\n",
       "    </tr>\n",
       "    <tr>\n",
       "      <th>3</th>\n",
       "      <td>2008</td>\n",
       "      <td>2081906392</td>\n",
       "    </tr>\n",
       "    <tr>\n",
       "      <th>4</th>\n",
       "      <td>2009</td>\n",
       "      <td>1712923838</td>\n",
       "    </tr>\n",
       "    <tr>\n",
       "      <th>5</th>\n",
       "      <td>2010</td>\n",
       "      <td>1486450396</td>\n",
       "    </tr>\n",
       "    <tr>\n",
       "      <th>6</th>\n",
       "      <td>2011</td>\n",
       "      <td>1232188633</td>\n",
       "    </tr>\n",
       "    <tr>\n",
       "      <th>7</th>\n",
       "      <td>2012</td>\n",
       "      <td>1143826316</td>\n",
       "    </tr>\n",
       "    <tr>\n",
       "      <th>8</th>\n",
       "      <td>2013</td>\n",
       "      <td>1909664701</td>\n",
       "    </tr>\n",
       "    <tr>\n",
       "      <th>9</th>\n",
       "      <td>2014</td>\n",
       "      <td>1917536305</td>\n",
       "    </tr>\n",
       "    <tr>\n",
       "      <th>10</th>\n",
       "      <td>2015</td>\n",
       "      <td>1844446620</td>\n",
       "    </tr>\n",
       "    <tr>\n",
       "      <th>11</th>\n",
       "      <td>2016</td>\n",
       "      <td>1805273235</td>\n",
       "    </tr>\n",
       "    <tr>\n",
       "      <th>12</th>\n",
       "      <td>2017</td>\n",
       "      <td>1809661581</td>\n",
       "    </tr>\n",
       "    <tr>\n",
       "      <th>13</th>\n",
       "      <td>2018</td>\n",
       "      <td>1737062540</td>\n",
       "    </tr>\n",
       "    <tr>\n",
       "      <th>14</th>\n",
       "      <td>2019</td>\n",
       "      <td>1583936643</td>\n",
       "    </tr>\n",
       "    <tr>\n",
       "      <th>15</th>\n",
       "      <td>2020</td>\n",
       "      <td>1370087810</td>\n",
       "    </tr>\n",
       "    <tr>\n",
       "      <th>16</th>\n",
       "      <td>2021</td>\n",
       "      <td>1360207303</td>\n",
       "    </tr>\n",
       "    <tr>\n",
       "      <th>17</th>\n",
       "      <td>2022</td>\n",
       "      <td>937759</td>\n",
       "    </tr>\n",
       "  </tbody>\n",
       "</table>\n",
       "</div>"
      ],
      "text/plain": [
       "    Year  Amount Surrendered\n",
       "0   2005          1639886407\n",
       "1   2006          2345026299\n",
       "2   2007          2031219256\n",
       "3   2008          2081906392\n",
       "4   2009          1712923838\n",
       "5   2010          1486450396\n",
       "6   2011          1232188633\n",
       "7   2012          1143826316\n",
       "8   2013          1909664701\n",
       "9   2014          1917536305\n",
       "10  2015          1844446620\n",
       "11  2016          1805273235\n",
       "12  2017          1809661581\n",
       "13  2018          1737062540\n",
       "14  2019          1583936643\n",
       "15  2020          1370087810\n",
       "16  2021          1360207303\n",
       "17  2022              937759"
      ]
     },
     "execution_count": 25,
     "metadata": {},
     "output_type": "execute_result"
    }
   ],
   "source": [
    "surrender_by_year"
   ]
  },
  {
   "cell_type": "code",
   "execution_count": 26,
   "id": "68d0ac9a",
   "metadata": {
    "scrolled": false
   },
   "outputs": [
    {
     "data": {
      "text/plain": [
       "<AxesSubplot:xlabel='Year', ylabel='Amount Surrendered'>"
      ]
     },
     "execution_count": 26,
     "metadata": {},
     "output_type": "execute_result"
    },
    {
     "data": {
      "image/png": "[encoded data removed]",
      "text/plain": [
       "<Figure size 432x288 with 1 Axes>"
      ]
     },
     "metadata": {
      "needs_background": "light"
     },
     "output_type": "display_data"
    }
   ],
   "source": [
    "sns.scatterplot(data=surrender_by_year, x=\"Year\", y=\"Amount Surrendered\")"
   ]
  },
  {
   "cell_type": "markdown",
   "id": "7544656b",
   "metadata": {},
   "source": [
    "As a proxy for emissions, surrenders are the amount of allowances accounts must give up matching their annual emissions. From the scatter plot, total surrenders are decreasing which is expected aligned with the emmissions cap being reduced over time. This trend is mechanical as a result of the reducing cap set by the EU ETS but an important metric to check to ensure emmissions are being reduced. The jump at 2012 corresponds to the end of the initial period of the EU ETS and the subsequent restart. "
   ]
  },
  {
   "cell_type": "markdown",
   "id": "98a4ca76",
   "metadata": {},
   "source": [
    "### Transactions"
   ]
  },
  {
   "cell_type": "code",
   "execution_count": 27,
   "id": "b9bb8510",
   "metadata": {},
   "outputs": [
    {
     "data": {
      "text/html": [
       "<div>\n",
       "<style scoped>\n",
       "    .dataframe tbody tr th:only-of-type {\n",
       "        vertical-align: middle;\n",
       "    }\n",
       "\n",
       "    .dataframe tbody tr th {\n",
       "        vertical-align: top;\n",
       "    }\n",
       "\n",
       "    .dataframe thead th {\n",
       "        text-align: right;\n",
       "    }\n",
       "</style>\n",
       "<table border=\"1\" class=\"dataframe\">\n",
       "  <thead>\n",
       "    <tr style=\"text-align: right;\">\n",
       "      <th></th>\n",
       "      <th>amount</th>\n",
       "    </tr>\n",
       "  </thead>\n",
       "  <tbody>\n",
       "    <tr>\n",
       "      <th>count</th>\n",
       "      <td>1929941.00</td>\n",
       "    </tr>\n",
       "    <tr>\n",
       "      <th>mean</th>\n",
       "      <td>141191.38</td>\n",
       "    </tr>\n",
       "    <tr>\n",
       "      <th>std</th>\n",
       "      <td>7419394.34</td>\n",
       "    </tr>\n",
       "    <tr>\n",
       "      <th>min</th>\n",
       "      <td>1.00</td>\n",
       "    </tr>\n",
       "    <tr>\n",
       "      <th>25%</th>\n",
       "      <td>2894.00</td>\n",
       "    </tr>\n",
       "    <tr>\n",
       "      <th>50%</th>\n",
       "      <td>9750.00</td>\n",
       "    </tr>\n",
       "    <tr>\n",
       "      <th>75%</th>\n",
       "      <td>28684.00</td>\n",
       "    </tr>\n",
       "    <tr>\n",
       "      <th>max</th>\n",
       "      <td>4868096694.00</td>\n",
       "    </tr>\n",
       "  </tbody>\n",
       "</table>\n",
       "</div>"
      ],
      "text/plain": [
       "             amount\n",
       "count    1929941.00\n",
       "mean      141191.38\n",
       "std      7419394.34\n",
       "min            1.00\n",
       "25%         2894.00\n",
       "50%         9750.00\n",
       "75%        28684.00\n",
       "max   4868096694.00"
      ]
     },
     "execution_count": 27,
     "metadata": {},
     "output_type": "execute_result"
    }
   ],
   "source": [
    "pd.set_option('display.float_format', lambda x: '%.2f' % x)\n",
    "transaction[['amount']].describe()"
   ]
  },
  {
   "cell_type": "code",
   "execution_count": 28,
   "id": "3c732a93",
   "metadata": {
    "scrolled": true
   },
   "outputs": [
    {
     "data": {
      "text/plain": [
       "<AxesSubplot:xlabel='amount', ylabel='Density'>"
      ]
     },
     "execution_count": 28,
     "metadata": {},
     "output_type": "execute_result"
    },
    {
     "data": {
      "image/png": "[encoded data removed]",
      "text/plain": [
       "<Figure size 432x288 with 1 Axes>"
      ]
     },
     "metadata": {
      "needs_background": "light"
     },
     "output_type": "display_data"
    }
   ],
   "source": [
    "sns.histplot(data = transaction, x=\"amount\", stat=\"density\", bins = 30, color = 'navy')"
   ]
  },
  {
   "cell_type": "markdown",
   "id": "07e1d220",
   "metadata": {},
   "source": [
    "There were almost 2 million transactions in this data. The average amount of allocations traded were approximately 140,000 units (1 unit equivalent to 1 tonne of CO2). Trades ranged from 1 unit to approximatley 4.9 billion with extremely high with a standard deviation of almost 7.5 million."
   ]
  },
  {
   "cell_type": "markdown",
   "id": "d4ee788a",
   "metadata": {},
   "source": [
    "### Pandemic Year Surrenders by Country"
   ]
  },
  {
   "cell_type": "code",
   "execution_count": 34,
   "id": "39c9825b",
   "metadata": {},
   "outputs": [],
   "source": [
    "surrender_country = pd.merge(surrender, installation[['id', 'registry_country']], left_on = 'installation_id', right_on = 'id', how = 'left')"
   ]
  },
  {
   "cell_type": "code",
   "execution_count": 36,
   "id": "7c8443eb",
   "metadata": {
    "scrolled": true
   },
   "outputs": [],
   "source": [
    "surrender_country.drop(['id_x', 'id_y'], axis = 1, inplace = True)"
   ]
  },
  {
   "cell_type": "code",
   "execution_count": 66,
   "id": "93aa53a2",
   "metadata": {},
   "outputs": [],
   "source": [
    "pand_surrender_country = surrender_country[surrender_country['year'] > 2018]\n",
    "pand_surrender_country = pand_surrender_country[pand_surrender_country['year'] < 2022]"
   ]
  },
  {
   "cell_type": "code",
   "execution_count": 67,
   "id": "29beed8e",
   "metadata": {},
   "outputs": [],
   "source": [
    "countries = pand_surrender_country['registry_country'].unique()"
   ]
  },
  {
   "cell_type": "code",
   "execution_count": 68,
   "id": "96a9d150",
   "metadata": {},
   "outputs": [],
   "source": [
    "pand_surrender_by_country = pand_surrender_country.groupby('registry_country')"
   ]
  },
  {
   "cell_type": "code",
   "execution_count": 70,
   "id": "dd9f9e9f",
   "metadata": {},
   "outputs": [],
   "source": [
    "counter = True\n",
    "pand_surrender_by_country_year = ''\n",
    "\n",
    "for country in countries:\n",
    "    country_df = pand_surrender_by_country.get_group(country)[['year', 'amount']]\n",
    "    country_df = country_df.groupby('year').sum()\n",
    "    country_df['country'] = country\n",
    "    \n",
    "    if counter == True:\n",
    "        pand_surrender_by_country_year = country_df\n",
    "        counter = False\n",
    "    \n",
    "    else:\n",
    "        pand_surrender_by_country_year = pd.concat([pand_surrender_by_country_year, country_df])\n"
   ]
  },
  {
   "cell_type": "code",
   "execution_count": 77,
   "id": "23cc8d9f",
   "metadata": {},
   "outputs": [
    {
     "data": {
      "text/plain": [
       "([<matplotlib.axis.XTick at 0x7fa147b966d0>,\n",
       "  <matplotlib.axis.XTick at 0x7fa147b96730>,\n",
       "  <matplotlib.axis.XTick at 0x7fa147af9730>],\n",
       " [Text(0, 0, ''), Text(0, 0, ''), Text(0, 0, '')])"
      ]
     },
     "execution_count": 77,
     "metadata": {},
     "output_type": "execute_result"
    },
    {
     "data": {
      "image/png": "[encoded data removed]",
      "text/plain": [
       "<Figure size 432x288 with 1 Axes>"
      ]
     },
     "metadata": {
      "needs_background": "light"
     },
     "output_type": "display_data"
    }
   ],
   "source": [
    "ax = sns.scatterplot(data=pand_surrender_by_country_year, x=\"year\", y=\"amount\", hue=\"country\")\n",
    "sns.move_legend(ax, \"upper left\", bbox_to_anchor=(1, 1))\n",
    "plt.xticks([2019, 2020, 2021])"
   ]
  },
  {
   "cell_type": "markdown",
   "id": "df976dd4",
   "metadata": {},
   "source": [
    "### Pandemic Year Surrenders by Firm Size"
   ]
  },
  {
   "cell_type": "markdown",
   "id": "bc7bc0e7",
   "metadata": {},
   "source": [
    "\\* firm size could be determined by market if connected to financial data"
   ]
  },
  {
   "cell_type": "code",
   "execution_count": 108,
   "id": "f6fb61d5",
   "metadata": {},
   "outputs": [],
   "source": [
    "num_installations_by_account['firm_size'] = \"small\"\n",
    "\n",
    "num_installations_by_account.loc[\n",
    "    num_installations_by_account[\"Number of Installations Owned\"] > 1, \"firm_size\"] = \"medium\"\n",
    "\n",
    "num_installations_by_account.loc[\n",
    "    num_installations_by_account[\"Number of Installations Owned\"] > 10, \"firm_size\"] = \"large\""
   ]
  },
  {
   "cell_type": "code",
   "execution_count": 109,
   "id": "792e1592",
   "metadata": {},
   "outputs": [],
   "source": [
    "num_installations_by_account.reset_index(inplace = True)"
   ]
  },
  {
   "cell_type": "code",
   "execution_count": 113,
   "id": "74d2a464",
   "metadata": {
    "scrolled": true
   },
   "outputs": [],
   "source": [
    "account = pd.merge(account, num_installations_by_account, left_on='accountHolder_id', right_on='accountHolder_id', how='left')"
   ]
  },
  {
   "cell_type": "code",
   "execution_count": 116,
   "id": "e82877bb",
   "metadata": {
    "scrolled": false
   },
   "outputs": [],
   "source": [
    "surrender = pd.merge(surrender, account[['installation_id', 'firm_size']], left_on='installation_id', right_on='installation_id', how='left')"
   ]
  },
  {
   "cell_type": "code",
   "execution_count": 120,
   "id": "04d11364",
   "metadata": {},
   "outputs": [],
   "source": [
    "pand_surrender_firmsize = surrender[surrender['year'] > 2018]\n",
    "pand_surrender_firmsize = pand_surrender_firmsize[pand_surrender_firmsize['year'] < 2022]"
   ]
  },
  {
   "cell_type": "code",
   "execution_count": 122,
   "id": "22d5df11",
   "metadata": {},
   "outputs": [],
   "source": [
    "pand_surrender_firmsize = pand_surrender_firmsize.groupby('firm_size')"
   ]
  },
  {
   "cell_type": "code",
   "execution_count": 123,
   "id": "b07eb5ac",
   "metadata": {},
   "outputs": [],
   "source": [
    "firm_sizes = ['small', 'medium', 'large']"
   ]
  },
  {
   "cell_type": "code",
   "execution_count": 128,
   "id": "ec1b195c",
   "metadata": {},
   "outputs": [],
   "source": [
    "counter = True\n",
    "pand_surrender_by_firmsize_year = ''\n",
    "\n",
    "for size in firm_sizes:\n",
    "    firmsize_df = pand_surrender_firmsize.get_group(size)[['year', 'amount']]\n",
    "    firmsize_df = firmsize_df.groupby('year').sum()\n",
    "    firmsize_df['firmsize'] = size\n",
    "    \n",
    "    if counter == True:\n",
    "        pand_surrender_by_firmsize_year = firmsize_df\n",
    "        counter = False\n",
    "    \n",
    "    else:\n",
    "        pand_surrender_by_firmsize_year = pd.concat([pand_surrender_by_firmsize_year, firmsize_df])\n"
   ]
  },
  {
   "cell_type": "code",
   "execution_count": 133,
   "id": "9af3c3d2",
   "metadata": {},
   "outputs": [
    {
     "data": {
      "text/plain": [
       "([<matplotlib.axis.XTick at 0x7fa147c37580>,\n",
       "  <matplotlib.axis.XTick at 0x7fa147c375b0>,\n",
       "  <matplotlib.axis.XTick at 0x7fa147b6f580>],\n",
       " [Text(0, 0, ''), Text(0, 0, ''), Text(0, 0, '')])"
      ]
     },
     "execution_count": 133,
     "metadata": {},
     "output_type": "execute_result"
    },
    {
     "data": {
      "image/png": "[encoded data removed]",
      "text/plain": [
       "<Figure size 432x288 with 1 Axes>"
      ]
     },
     "metadata": {
      "needs_background": "light"
     },
     "output_type": "display_data"
    }
   ],
   "source": [
    "sns.scatterplot(data=pand_surrender_by_firmsize_year, x=\"year\", y=\"amount\", hue=\"firmsize\")\n",
    "plt.xticks([2019, 2020, 2021])"
   ]
  },
  {
   "cell_type": "markdown",
   "id": "88e3dfbf",
   "metadata": {},
   "source": [
    "### Surrender Change Over Time by Country"
   ]
  },
  {
   "cell_type": "code",
   "execution_count": 141,
   "id": "b2ae916d",
   "metadata": {},
   "outputs": [],
   "source": [
    "surrender_by_country = surrender_country[surrender_country['year'] > 2012]\n",
    "surrender_by_country = surrender_by_country[surrender_by_country['year'] < 2022]"
   ]
  },
  {
   "cell_type": "code",
   "execution_count": 143,
   "id": "21cc4236",
   "metadata": {},
   "outputs": [],
   "source": [
    "years = [2013, 2014, 2015, 2016, 2017, 2018, 2019, 2020, 2021]"
   ]
  },
  {
   "cell_type": "code",
   "execution_count": 145,
   "id": "94b75b19",
   "metadata": {},
   "outputs": [],
   "source": [
    "surrender_by_country = surrender_by_country.groupby('registry_country')"
   ]
  },
  {
   "cell_type": "code",
   "execution_count": 146,
   "id": "055de53b",
   "metadata": {},
   "outputs": [],
   "source": [
    "counter = True\n",
    "surrender_change_by_country_year = ''\n",
    "\n",
    "for country in countries:\n",
    "    country_df = surrender_by_country.get_group(country)[['year', 'amount']]\n",
    "    country_df = country_df.groupby('year').sum()\n",
    "    country_df['country'] = country\n",
    "    country_df['d_amount'] = country_df['amount'].pct_change()\n",
    "    \n",
    "    if counter == True:\n",
    "        surrender_change_by_country_year = country_df\n",
    "        counter = False\n",
    "    \n",
    "    else:\n",
    "        surrender_change_by_country_year = pd.concat([surrender_change_by_country_year, country_df])"
   ]
  },
  {
   "cell_type": "code",
   "execution_count": 148,
   "id": "06832906",
   "metadata": {},
   "outputs": [],
   "source": [
    "surrender_change_by_country_year['d_amount'].fillna(value=0, inplace=True)"
   ]
  },
  {
   "cell_type": "code",
   "execution_count": 150,
   "id": "4a340c9d",
   "metadata": {},
   "outputs": [
    {
     "data": {
      "text/plain": [
       "([<matplotlib.axis.XTick at 0x7fa14781f5e0>,\n",
       "  <matplotlib.axis.XTick at 0x7fa14781f760>,\n",
       "  <matplotlib.axis.XTick at 0x7fa14781fb80>,\n",
       "  <matplotlib.axis.XTick at 0x7fa14780c280>,\n",
       "  <matplotlib.axis.XTick at 0x7fa141345070>,\n",
       "  <matplotlib.axis.XTick at 0x7fa14780ca30>,\n",
       "  <matplotlib.axis.XTick at 0x7fa146d1f4f0>,\n",
       "  <matplotlib.axis.XTick at 0x7fa146d1fd30>,\n",
       "  <matplotlib.axis.XTick at 0x7fa146d29910>],\n",
       " [Text(0, 0, ''),\n",
       "  Text(0, 0, ''),\n",
       "  Text(0, 0, ''),\n",
       "  Text(0, 0, ''),\n",
       "  Text(0, 0, ''),\n",
       "  Text(0, 0, ''),\n",
       "  Text(0, 0, ''),\n",
       "  Text(0, 0, ''),\n",
       "  Text(0, 0, '')])"
      ]
     },
     "execution_count": 150,
     "metadata": {},
     "output_type": "execute_result"
    },
    {
     "data": {
      "image/png": "[encoded data removed]",
      "text/plain": [
       "<Figure size 432x288 with 1 Axes>"
      ]
     },
     "metadata": {
      "needs_background": "light"
     },
     "output_type": "display_data"
    }
   ],
   "source": [
    "ax = sns.scatterplot(data=surrender_change_by_country_year, x=\"year\", y=\"d_amount\", hue=\"country\")\n",
    "sns.move_legend(ax, \"upper left\", bbox_to_anchor=(1, 1))\n",
    "plt.xticks(years)"
   ]
  },
  {
   "cell_type": "markdown",
   "id": "0276a0cb",
   "metadata": {},
   "source": [
    "### Map of Surrdender Change Over Time by Country"
   ]
  },
  {
   "cell_type": "markdown",
   "id": "555d4edd",
   "metadata": {},
   "source": [
    "### Map of Installations by Country"
   ]
  },
  {
   "cell_type": "code",
   "execution_count": null,
   "id": "704cf4ea",
   "metadata": {},
   "outputs": [],
   "source": []
  }
 ],
 "metadata": {
  "kernelspec": {
   "display_name": "Python 3 (ipykernel)",
   "language": "python",
   "name": "python3"
  },
  "language_info": {
   "codemirror_mode": {
    "name": "ipython",
    "version": 3
   },
   "file_extension": ".py",
   "mimetype": "text/x-python",
   "name": "python",
   "nbconvert_exporter": "python",
   "pygments_lexer": "ipython3",
   "version": "3.9.7"
  }
 },
 "nbformat": 4,
 "nbformat_minor": 5
}
